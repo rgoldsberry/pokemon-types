{
 "cells": [
  {
   "cell_type": "code",
   "execution_count": 1,
   "metadata": {},
   "outputs": [],
   "source": [
    "# dependencies\n",
    "import json\n",
    "import pandas as pd\n",
    "\n",
    "# load types file\n",
    "with open('API_Data/types.json', 'r') as in_file:\n",
    "    types = json.load(in_file)"
   ]
  },
  {
   "cell_type": "markdown",
   "metadata": {},
   "source": [
    "## Building the Types Dataframe\n",
    "\n",
    "I want to build a dataframe where the columns are the multipliers for defense, this way when I want to know what to hit a Pokémon with I just need to multiply the two columns together."
   ]
  },
  {
   "cell_type": "code",
   "execution_count": 2,
   "metadata": {},
   "outputs": [],
   "source": [
    "type_list = [types[type]['name'] for type in range(len(types))]\n",
    "\n",
    "type_df = pd.DataFrame(columns=type_list)"
   ]
  },
  {
   "cell_type": "code",
   "execution_count": 3,
   "metadata": {},
   "outputs": [],
   "source": [
    "\n",
    "for type_no in range(len(types)):\n",
    "    type = types[type_no]['name']\n",
    "\n",
    "    # if it gets super effective damage from another type, add a 2 to that row for the type's column\n",
    "    if len(types[type_no]['damage_relations']['double_damage_from']) > 0:\n",
    "        \n",
    "        for attack_type in range(len(types[type_no]['damage_relations']['double_damage_from'])):\n",
    "            attack_name = types[type_no]['damage_relations']['double_damage_from'][attack_type]['name']\n",
    "            type_df.loc[attack_name , type] = 2.0\n",
    "\n",
    "    # if it gets not very effective damage from another type, add a 0.5 to that row for the type's column\n",
    "    if len(types[type_no]['damage_relations']['half_damage_from']) > 0:\n",
    "        \n",
    "        for attack_type in range(len(types[type_no]['damage_relations']['half_damage_from'])):\n",
    "            attack_name = types[type_no]['damage_relations']['half_damage_from'][attack_type]['name']\n",
    "            type_df.loc[attack_name , type] = 0.5\n",
    "\n",
    "    # if it gets no damage from another type, add a 0 to that row for the type's column\n",
    "    if len(types[type_no]['damage_relations']['no_damage_from']) > 0:\n",
    "        \n",
    "        for attack_type in range(len(types[type_no]['damage_relations']['no_damage_from'])):\n",
    "            attack_name = types[type_no]['damage_relations']['no_damage_from'][attack_type]['name']\n",
    "            type_df.loc[attack_name , type] = 0\n",
    "\n",
    "# reorder indeces so they match the column order, fill 1s in everywhere that isn't super/not very effective\n",
    "type_df = type_df.reindex(type_list)\n",
    "type_df.fillna(1, inplace=True)\n",
    "    "
   ]
  },
  {
   "cell_type": "code",
   "execution_count": 4,
   "metadata": {},
   "outputs": [],
   "source": [
    "type_df.to_csv('Function_Data/TypeDF.csv')"
   ]
  },
  {
   "cell_type": "markdown",
   "metadata": {},
   "source": [
    "## Building Attack Function\n",
    "\n",
    "This will be the core function I end up using in the final app, built here to test easily in a notebook."
   ]
  },
  {
   "cell_type": "code",
   "execution_count": 5,
   "metadata": {},
   "outputs": [],
   "source": [
    "# core function for deciding what to attack with\n",
    "def attack_with(type1, type2=None):\n",
    "\n",
    "    #monotype    \n",
    "    if type2 == None:\n",
    "        damage = type_df[type1]\n",
    "        damage = damage[damage != 1].sort_values(ascending=False)\n",
    "        return damage\n",
    "    #dual type\n",
    "    else:\n",
    "        damage = type_df[type1] * type_df[type2]\n",
    "        damage = damage[damage != 1].sort_values(ascending=False)\n",
    "        return damage\n"
   ]
  },
  {
   "cell_type": "code",
   "execution_count": 6,
   "metadata": {},
   "outputs": [
    {
     "data": {
      "text/plain": [
       "fairy       2.0\n",
       "poison      0.5\n",
       "normal      0.0\n",
       "fighting    0.0\n",
       "psychic     0.0\n",
       "dtype: float64"
      ]
     },
     "execution_count": 6,
     "metadata": {},
     "output_type": "execute_result"
    }
   ],
   "source": [
    "# test function with my favorite 'mon sableye\n",
    "attack_with('dark','ghost')"
   ]
  }
 ],
 "metadata": {
  "kernelspec": {
   "display_name": "Python 3.9.12 ('base')",
   "language": "python",
   "name": "python3"
  },
  "language_info": {
   "codemirror_mode": {
    "name": "ipython",
    "version": 3
   },
   "file_extension": ".py",
   "mimetype": "text/x-python",
   "name": "python",
   "nbconvert_exporter": "python",
   "pygments_lexer": "ipython3",
   "version": "3.9.12"
  },
  "orig_nbformat": 4,
  "vscode": {
   "interpreter": {
    "hash": "06147384fab47baad5a7ca42bf3b76ad6897d937854adfc341b665c176fc89a2"
   }
  }
 },
 "nbformat": 4,
 "nbformat_minor": 2
}
