{
 "cells": [
  {
   "cell_type": "code",
   "execution_count": 1,
   "metadata": {},
   "outputs": [],
   "source": [
    "# dependencies\n",
    "import json\n",
    "import pandas as pd\n",
    "import re\n",
    "\n",
    "# load types file\n",
    "with open('../API_Data/pkmn.json', 'r') as in_file:\n",
    "    pkmn = json.load(in_file)"
   ]
  },
  {
   "cell_type": "code",
   "execution_count": 81,
   "metadata": {},
   "outputs": [],
   "source": [
    "pkmn_names = pd.Series([pkmn[num]['name'] for num in range(len(pkmn))])"
   ]
  },
  {
   "cell_type": "markdown",
   "metadata": {},
   "source": [
    "Here I'm going to want to change out form names to something that looks a little better (ex: raichu-alola -> Alolan Raichu)"
   ]
  },
  {
   "cell_type": "code",
   "execution_count": 82,
   "metadata": {},
   "outputs": [],
   "source": [
    "def clean_names(name):\n",
    "\n",
    "    # capture all region-specific forms\n",
    "    regions = ['alol', 'galar', 'hisui']\n",
    "    for region in regions:\n",
    "        if re.match(f'.*{region}', name, flags=re.IGNORECASE):\n",
    "            \n",
    "            new = re.search(f'(.*)-{region}', name)\n",
    "            if new:\n",
    "                if region in ['alol', 'hisui']:\n",
    "                    name = f'{region}an {new.group(1)}'\n",
    "                elif region in ['galar']:\n",
    "                    name = f'{region}ian {new.group(1)}'\n",
    "            return name\n",
    "    \n",
    "    # list of things to drop\n",
    "    # gigantimaxes, pikachu and eevee costumes\n",
    "    to_drop = ['gmax', 'pikachu-', 'eevee-']\n",
    "    for pattern in to_drop:\n",
    "        if re.match(f'.*{pattern}', name, flags = re.IGNORECASE):\n",
    "            name = 'DROP'\n",
    "            return name\n",
    "\n",
    "    # pokemon with different formes\n",
    "    forme_search = ['incarnate', 'therian', 'normal', 'attack', 'defense', 'speed', 'origin', 'altered', 'land', 'aria', 'pirouette', 'shield', 'blade']\n",
    "    for pattern in forme_search:\n",
    "        if re.match(f'.*-{pattern}$', name, flags = re.IGNORECASE):\n",
    "            new = re.search(f'(.*)-{pattern}', name)\n",
    "            name = f'{new.group(1)} {pattern} forme'\n",
    "            return name\n",
    "    \n",
    "    # pokemon with different forms\n",
    "    form_search = ['sunny', 'rainy', 'snowy', 'ordinary', 'resolute', 'midday', 'midnight', 'dusk', 'solo', 'school', 'amped', 'low-key']\n",
    "    for pattern in form_search:\n",
    "        if re.match(f'.*-{pattern}$', name, flags = re.IGNORECASE):\n",
    "            new = re.search(f'(.*)-{pattern}', name)\n",
    "            name = f'{new.group(1)} {pattern} form'\n",
    "            return name\n",
    "\n",
    "    # capture all mega evolutions\n",
    "    if re.match('.*mega', name, flags=re.IGNORECASE):\n",
    "        \n",
    "        if re.match('.*-mega$', name, flags=re.IGNORECASE):\n",
    "            new = re.search(r'(.*)-mega', name)\n",
    "            if new:\n",
    "                name = 'mega ' + new.group(1)\n",
    "        elif re.match('.*-mega-[xy]', name, flags=re.IGNORECASE):\n",
    "            new = re.search(r'(.*)-mega-([xy])', name)\n",
    "            if new:\n",
    "                name = 'mega ' + new.group(1) + ' ' + new.group(2)\n",
    "            return name\n",
    "        \n",
    "    return name\n",
    "\n",
    "\n",
    "pkmn_names = pkmn_names.apply(clean_names)"
   ]
  },
  {
   "cell_type": "code",
   "execution_count": 89,
   "metadata": {},
   "outputs": [
    {
     "name": "stdout",
     "output_type": "stream",
     "text": [
      "duskull\n",
      "dusknoir\n",
      "lycanroc dusk form\n",
      "necrozma dusk form\n"
     ]
    }
   ],
   "source": [
    "for name in pkmn_names[pkmn_names.str.contains('dusk')]:\n",
    "    print(name)"
   ]
  },
  {
   "cell_type": "markdown",
   "metadata": {},
   "source": [
    "Pokemon names to leave alone:\n",
    "Ho-Oh\n",
    "Jangmo-o\n",
    "Hakamo-o\n",
    "Kommo-o\n",
    "\n",
    "Single edits:\n",
    "type-null -> Type: Null\n",
    "Zygarde (forme)\n",
    "Rotom\n",
    "Basculin (form) (add striped forms and replace - with a space?)\n",
    "Minior (form)\n",
    "Toxtricity Low-Key (form)\n",
    "Necrozma (do this before the \"dusk\" search)"
   ]
  }
 ],
 "metadata": {
  "kernelspec": {
   "display_name": "Python 3.9.12 ('base')",
   "language": "python",
   "name": "python3"
  },
  "language_info": {
   "codemirror_mode": {
    "name": "ipython",
    "version": 3
   },
   "file_extension": ".py",
   "mimetype": "text/x-python",
   "name": "python",
   "nbconvert_exporter": "python",
   "pygments_lexer": "ipython3",
   "version": "3.9.12"
  },
  "orig_nbformat": 4,
  "vscode": {
   "interpreter": {
    "hash": "06147384fab47baad5a7ca42bf3b76ad6897d937854adfc341b665c176fc89a2"
   }
  }
 },
 "nbformat": 4,
 "nbformat_minor": 2
}
