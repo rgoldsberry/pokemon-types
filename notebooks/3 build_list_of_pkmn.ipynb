{
 "cells": [
  {
   "cell_type": "code",
   "execution_count": 154,
   "metadata": {},
   "outputs": [],
   "source": [
    "# dependencies\n",
    "import json\n",
    "import pandas as pd\n",
    "import re\n",
    "\n",
    "# load types file\n",
    "with open('../API_Data/pkmn.json', 'r') as in_file:\n",
    "    pkmn = json.load(in_file)"
   ]
  },
  {
   "cell_type": "code",
   "execution_count": 159,
   "metadata": {},
   "outputs": [],
   "source": [
    "pkmn_names = pd.Series([pkmn[num]['name'] for num in range(len(pkmn))])"
   ]
  },
  {
   "cell_type": "markdown",
   "metadata": {},
   "source": [
    "Here I'm going to want to change out form names to something that looks a little better (ex: raichu-alola -> Alolan Raichu)"
   ]
  },
  {
   "cell_type": "code",
   "execution_count": 160,
   "metadata": {},
   "outputs": [],
   "source": [
    "def clean_names(name):\n",
    "    \n",
    "    # drop gigantimaxes, pikachu and eevee costumes, totems\n",
    "    to_drop = ['gmax', 'pikachu-', 'eevee-', 'totem', 'floette-', 'greninja-', 'magearna-', 'cramorant-', 'zarude-']\n",
    "    for pattern in to_drop:\n",
    "        if re.match(f'.*{pattern}', name, flags = re.IGNORECASE):\n",
    "            name = 'DROP'\n",
    "            return name.title()\n",
    "\n",
    "    # capture all region-specific forms\n",
    "    regions = ['alol', 'galar', 'hisui']\n",
    "    for region in regions:\n",
    "        if re.match(f'.*{region}', name, flags=re.IGNORECASE):\n",
    "            \n",
    "            new = re.search(f'(.*)-{region}-?(.*)?', name)\n",
    "            if new:\n",
    "                if region in ['alol', 'hisui']:\n",
    "                    name = f'{region}an {new.group(1).replace(\"-\", \" \")}'\n",
    "                elif region in ['galar']:\n",
    "                    if new.group(2):\n",
    "                        name = f'{region}ian {new.group(1).replace(\"-\", \" \")} ({new.group(2).replace(\"-\", \" \")})'\n",
    "                    else:\n",
    "                        name = f'{region}ian {new.group(1).replace(\"-\", \" \")}'\n",
    "            return name.title()\n",
    "    \n",
    "    # minior (just keep one color since they're all the same)\n",
    "    if re.match(f'minior-.*', name, flags = re.IGNORECASE):\n",
    "        new = re.search(f'minior-(.*)', name)\n",
    "        if new.group(1) == 'red':\n",
    "            name = f'minior (core form)'\n",
    "        elif new.group(1) == 'red-meteor':\n",
    "            name = f'minior (meteor form)'\n",
    "        else:\n",
    "            name = 'DROP'\n",
    "        return name.title()    \n",
    "    \n",
    "    # pokemon with different formes\n",
    "    forme_search = ['deoxys', 'dialga', 'palkia', 'giratina', 'shaymin', 'tornadus', 'thundurus', 'landorus', 'meloetta', 'aegislash', 'zygarde', 'enamorus']\n",
    "    for pattern in forme_search:\n",
    "        if re.match(f'{pattern}-.*', name, flags = re.IGNORECASE):\n",
    "            new = re.search(f'{pattern}-(.*)', name)\n",
    "            name = f'{pattern} ({new.group(1).replace(\"-\", \" \")} forme)'\n",
    "            return name.title()\n",
    "    \n",
    "    # pokemon with different forms\n",
    "    form_search = ['castform', 'basculin', 'keldeo', 'lycanroc', 'wishiwashi', 'toxtricity']\n",
    "    for pattern in form_search:\n",
    "        if re.match(f'{pattern}-.*', name, flags = re.IGNORECASE):\n",
    "            new = re.search(f'{pattern}-(.*)', name)\n",
    "            name = f'{pattern} ({new.group(1).replace(\"-\", \" \")} form)'\n",
    "            return name.title()\n",
    "\n",
    "    # pokemon with different styles\n",
    "    style_search = ['oricorio', 'urshifu']\n",
    "    for pattern in style_search:\n",
    "        if re.match(f'{pattern}-.*', name, flags = re.IGNORECASE):\n",
    "            new = re.search(f'{pattern}-(.*)', name)\n",
    "            name = f'{pattern} ({new.group(1).replace(\"-\", \" \")} style)'\n",
    "            return name.title()\n",
    "\n",
    "    # replace dash with space\n",
    "    poke_search = ['tapu']\n",
    "    for pattern in poke_search:\n",
    "        if re.match(f'{pattern}-.*', name, flags = re.IGNORECASE):\n",
    "            new = re.search(f'{pattern}-(.*)', name)\n",
    "            name = f'{pattern} {new.group(1).replace(\"-\", \" \")}'\n",
    "            return name.title()\n",
    "    \n",
    "    # replace dash with space with () around modifier\n",
    "    modifier_search = ['mimikyu', 'eiscue', 'kyurem', 'kyogre', 'groudon', 'hoopa', 'rockruff', 'necrozma', 'eternatus', 'darmanitan', 'zacian', 'zamazenta', 'calyrex', 'morpeko', 'pumpkaboo', 'gourgeist']\n",
    "    for pattern in modifier_search:\n",
    "        if re.match(f'{pattern}-.*', name, flags = re.IGNORECASE):\n",
    "            new = re.search(f'{pattern}-(.*)', name)\n",
    "            name = f'{pattern} ({new.group(1).replace(\"-\", \" \")})'\n",
    "            return name.title()\n",
    "    \n",
    "    # pokemon with different genders\n",
    "    gender_search = ['m', 'male', 'f', 'female']\n",
    "    for pattern in gender_search:\n",
    "        if re.match(f'.*-{pattern}$', name, flags = re.IGNORECASE):\n",
    "            new = re.search(f'(.*)-{pattern}', name)\n",
    "            name = f'{new.group(1)} ({pattern})'\n",
    "            return name.title()\n",
    "    \n",
    "    # pokemon with different cloaks (burmy and wormadam)\n",
    "    cloak_search = ['plant', 'sandy', 'trash']\n",
    "    for pattern in cloak_search:\n",
    "        if re.match(f'.*-{pattern}$', name, flags = re.IGNORECASE):\n",
    "            new = re.search(f'(.*)-{pattern}', name)\n",
    "            name = f'{new.group(1)} ({pattern} cloak)'\n",
    "            return name.title()\n",
    "    \n",
    "    # rotom\n",
    "    if re.match(f'rotom-.*', name, flags = re.IGNORECASE):\n",
    "        new = re.search(f'rotom-(.*)', name)\n",
    "        name = f'{new.group(1)} rotom'\n",
    "        return name.title()\n",
    "\n",
    "    # mr [mr]imes\n",
    "    mime_search = ['mr-mime', 'mime-jr', 'mr-rime']\n",
    "    for pattern in mime_search:\n",
    "        if re.match(f'{pattern}', name, flags = re.IGNORECASE):\n",
    "            new = re.search(f'({pattern})', name)\n",
    "            name = new.group(1).replace(\"-\", \" \")\n",
    "            return name.title()\n",
    "    \n",
    "    # type: null\n",
    "    if re.match('type-null', name, flags = re.IGNORECASE):\n",
    "        new = re.search(f'(.*)-(.*)', name)\n",
    "        name = f'{new.group(1)}: {new.group(2)}'\n",
    "        return name.title()\n",
    "\n",
    "    # capture all mega evolutions\n",
    "    if re.match('.*mega', name, flags=re.IGNORECASE):\n",
    "        \n",
    "        if re.match('.*-mega$', name, flags=re.IGNORECASE):\n",
    "            new = re.search(r'(.*)-mega', name)\n",
    "            if new:\n",
    "                name = 'mega ' + new.group(1)\n",
    "        elif re.match('.*-mega-[xy]', name, flags=re.IGNORECASE):\n",
    "            new = re.search(r'(.*)-mega-([xy])', name)\n",
    "            if new:\n",
    "                name = 'mega ' + new.group(1) + ' ' + new.group(2)\n",
    "            return name.title()\n",
    "        \n",
    "    return name.title()"
   ]
  },
  {
   "cell_type": "code",
   "execution_count": 161,
   "metadata": {},
   "outputs": [],
   "source": [
    "pkmn_names = pkmn_names.apply(clean_names)"
   ]
  },
  {
   "cell_type": "code",
   "execution_count": 162,
   "metadata": {},
   "outputs": [
    {
     "name": "stdout",
     "output_type": "stream",
     "text": [
      "Ho-Oh\n",
      "Porygon-Z\n",
      "Jangmo-O\n",
      "Hakamo-O\n",
      "Kommo-O\n"
     ]
    }
   ],
   "source": [
    "for name in pkmn_names[pkmn_names.str.contains(r'-')]:\n",
    "    print(name)"
   ]
  }
 ],
 "metadata": {
  "kernelspec": {
   "display_name": "Python 3.9.12 ('base')",
   "language": "python",
   "name": "python3"
  },
  "language_info": {
   "codemirror_mode": {
    "name": "ipython",
    "version": 3
   },
   "file_extension": ".py",
   "mimetype": "text/x-python",
   "name": "python",
   "nbconvert_exporter": "python",
   "pygments_lexer": "ipython3",
   "version": "3.9.12"
  },
  "orig_nbformat": 4,
  "vscode": {
   "interpreter": {
    "hash": "06147384fab47baad5a7ca42bf3b76ad6897d937854adfc341b665c176fc89a2"
   }
  }
 },
 "nbformat": 4,
 "nbformat_minor": 2
}
