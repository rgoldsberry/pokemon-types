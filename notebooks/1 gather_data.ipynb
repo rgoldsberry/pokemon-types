{
 "cells": [
  {
   "cell_type": "markdown",
   "metadata": {},
   "source": [
    "# Data Gathering\n",
    "\n",
    "All data in this project is pulled from the [PokéAPI](https://pokeapi.co/). Full credit and huge thanks to them."
   ]
  },
  {
   "cell_type": "code",
   "execution_count": 1,
   "metadata": {},
   "outputs": [],
   "source": [
    "# dependencies \n",
    "import requests\n",
    "import json"
   ]
  },
  {
   "cell_type": "code",
   "execution_count": 2,
   "metadata": {},
   "outputs": [],
   "source": [
    "type_url = \"https://pokeapi.co/api/v2/type/\"\n",
    "species_url = \"https://pokeapi.co/api/v2/pokemon-species/\"\n",
    "pkmn_url = \"https://pokeapi.co/api/v2/pokemon/\""
   ]
  },
  {
   "cell_type": "markdown",
   "metadata": {},
   "source": [
    "## Gathering Pokemon Types\n",
    "\n",
    "I want to get all of the types. This API includes two types, Shadow and Unknown, that I'm not interested in, so I'm going to limit the results to the 18 base types I know are in Pokémon games."
   ]
  },
  {
   "cell_type": "code",
   "execution_count": 3,
   "metadata": {},
   "outputs": [],
   "source": [
    "# get list of types, extract the api urls\n",
    "types = requests.get(type_url, params={\"limit\": 18}).json()\n",
    "\n",
    "types_urls = [types['results'][type]['url'] for type in range(len(types['results']))]"
   ]
  },
  {
   "cell_type": "code",
   "execution_count": 4,
   "metadata": {},
   "outputs": [],
   "source": [
    "# extract each type and add it to a list\n",
    "types = []\n",
    "\n",
    "for url in types_urls:\n",
    "    try:\n",
    "        types.append(requests.get(url).json())\n",
    "    except:\n",
    "        print('Skipping. Trying next type')\n",
    "\n",
    "\n",
    "# export types to a file\n",
    "with open('API_Data/types.json', 'w') as out_file:\n",
    "    json.dump(types, out_file, indent=2)\n",
    "\n"
   ]
  },
  {
   "cell_type": "markdown",
   "metadata": {},
   "source": [
    "## Gathering Pokémon Species\n",
    "\n",
    "This dataset has \"Pokémon Species\" and \"Pokémon\" datasets. The species dataset contains one entry for each species of Pokémon with keys that define any variants. The Pokémon dataset has a separate entry for each Pokémon, without grouping by series. The species set is smaller and gives you a list of forms. The Pokémon dataset lists the types of each form. I want both datasets."
   ]
  },
  {
   "cell_type": "code",
   "execution_count": 5,
   "metadata": {},
   "outputs": [],
   "source": [
    "species = requests.get(species_url).json()\n",
    "\n",
    "species_len = species['count']"
   ]
  },
  {
   "cell_type": "code",
   "execution_count": 6,
   "metadata": {},
   "outputs": [],
   "source": [
    "species = []\n",
    "\n",
    "for id in range(1,species_len):\n",
    "    try:\n",
    "        species.append(requests.get(f'{species_url}{id}').json())\n",
    "    except:\n",
    "        print(f'Skipping pkmn {id}. Trying next pkmn.')"
   ]
  },
  {
   "cell_type": "code",
   "execution_count": 7,
   "metadata": {},
   "outputs": [],
   "source": [
    "# export pokemon species to a file\n",
    "with open('API_Data/pkmn_species.json', 'w') as out_file:\n",
    "    json.dump(species, out_file, indent=2)"
   ]
  },
  {
   "cell_type": "markdown",
   "metadata": {},
   "source": [
    "## Gathering Pokémon\n",
    "\n",
    "In this dataset the base forms of Pokémon are numbered 1-905, and then alternate forms (such as region-specific forms) are listed in 10001-10249. Alternate forms often have different types so I'm going to get them all in two passes."
   ]
  },
  {
   "cell_type": "code",
   "execution_count": 11,
   "metadata": {},
   "outputs": [],
   "source": [
    "pkmn = []\n",
    "\n",
    "for id in range(1,906):\n",
    "    try:\n",
    "        pkmn.append(requests.get(f'{pkmn_url}{id}').json())\n",
    "    except:\n",
    "        print(f'Skipping pkmn {id}. Trying next pkmn.')\n",
    "\n",
    "\n",
    "for id in range(10001,10250):\n",
    "    try:\n",
    "        pkmn.append(requests.get(f'{pkmn_url}{id}').json())\n",
    "    except:\n",
    "        print(f'Skipping pkmn {id}. Trying next pkmn.')"
   ]
  },
  {
   "cell_type": "code",
   "execution_count": 12,
   "metadata": {},
   "outputs": [],
   "source": [
    "# export pokemon to a file\n",
    "with open('API_Data/pkmn.json', 'w') as out_file:\n",
    "    json.dump(pkmn, out_file, indent=2)"
   ]
  }
 ],
 "metadata": {
  "kernelspec": {
   "display_name": "Python 3.9.12 ('base')",
   "language": "python",
   "name": "python3"
  },
  "language_info": {
   "codemirror_mode": {
    "name": "ipython",
    "version": 3
   },
   "file_extension": ".py",
   "mimetype": "text/x-python",
   "name": "python",
   "nbconvert_exporter": "python",
   "pygments_lexer": "ipython3",
   "version": "3.9.12"
  },
  "orig_nbformat": 4,
  "vscode": {
   "interpreter": {
    "hash": "06147384fab47baad5a7ca42bf3b76ad6897d937854adfc341b665c176fc89a2"
   }
  }
 },
 "nbformat": 4,
 "nbformat_minor": 2
}
